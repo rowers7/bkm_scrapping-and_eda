{
 "cells": [
  {
   "cell_type": "code",
   "execution_count": 1,
   "metadata": {},
   "outputs": [],
   "source": [
    "import numpy as np\n",
    "import pandas as pd\n",
    "import matplotlib.pyplot as plt\n",
    "import seaborn as sns\n",
    "from pandas import Series, DataFrame\n",
    "from sklearn.model_selection import train_test_split"
   ]
  },
  {
   "cell_type": "code",
   "execution_count": 2,
   "metadata": {},
   "outputs": [
    {
     "data": {
      "text/html": [
       "<div>\n",
       "<style scoped>\n",
       "    .dataframe tbody tr th:only-of-type {\n",
       "        vertical-align: middle;\n",
       "    }\n",
       "\n",
       "    .dataframe tbody tr th {\n",
       "        vertical-align: top;\n",
       "    }\n",
       "\n",
       "    .dataframe thead th {\n",
       "        text-align: right;\n",
       "    }\n",
       "</style>\n",
       "<table border=\"1\" class=\"dataframe\">\n",
       "  <thead>\n",
       "    <tr style=\"text-align: right;\">\n",
       "      <th></th>\n",
       "      <th>Product_Name</th>\n",
       "      <th>Publisher</th>\n",
       "      <th>Writer</th>\n",
       "      <th>Previous_Price</th>\n",
       "      <th>Discount</th>\n",
       "      <th>Current_Price</th>\n",
       "      <th>Gain</th>\n",
       "      <th>Kind</th>\n",
       "      <th>Page</th>\n",
       "      <th>ISBN</th>\n",
       "      <th>Cover</th>\n",
       "    </tr>\n",
       "  </thead>\n",
       "  <tbody>\n",
       "    <tr>\n",
       "      <th>1456</th>\n",
       "      <td>Tuhaf Canavar Cancan</td>\n",
       "      <td>Yapı Kredi Yayınları</td>\n",
       "      <td>Manuela Monari</td>\n",
       "      <td>5,56</td>\n",
       "      <td>%36 indirim</td>\n",
       "      <td>3,56</td>\n",
       "      <td>2,00</td>\n",
       "      <td>Roman-Öykü Kitapları</td>\n",
       "      <td>48</td>\n",
       "      <td>9789750842092</td>\n",
       "      <td>Ciltsiz</td>\n",
       "    </tr>\n",
       "    <tr>\n",
       "      <th>2509</th>\n",
       "      <td>Fizik Öğretiminde Problem Çözme</td>\n",
       "      <td>Cezve Kitap</td>\n",
       "      <td>Elif İnce</td>\n",
       "      <td>20,00</td>\n",
       "      <td>%36 indirim</td>\n",
       "      <td>12,80</td>\n",
       "      <td>7,20</td>\n",
       "      <td>Akademik Kitaplar</td>\n",
       "      <td>144</td>\n",
       "      <td>9786058217669</td>\n",
       "      <td>Ciltsiz</td>\n",
       "    </tr>\n",
       "    <tr>\n",
       "      <th>1572</th>\n",
       "      <td>Antik Yunan'ın Kısa Tarihi</td>\n",
       "      <td>Alfa Yayınları</td>\n",
       "      <td>Sarah B. Pomeroy</td>\n",
       "      <td>45,00</td>\n",
       "      <td>%35 indirim</td>\n",
       "      <td>29,25</td>\n",
       "      <td>15,75</td>\n",
       "      <td>Diğer Tarih Kitapları</td>\n",
       "      <td>400</td>\n",
       "      <td>9786051716855</td>\n",
       "      <td>Ciltsiz</td>\n",
       "    </tr>\n",
       "  </tbody>\n",
       "</table>\n",
       "</div>"
      ],
      "text/plain": [
       "                         Product_Name             Publisher            Writer  \\\n",
       "1456             Tuhaf Canavar Cancan  Yapı Kredi Yayınları    Manuela Monari   \n",
       "2509  Fizik Öğretiminde Problem Çözme           Cezve Kitap         Elif İnce   \n",
       "1572       Antik Yunan'ın Kısa Tarihi        Alfa Yayınları  Sarah B. Pomeroy   \n",
       "\n",
       "     Previous_Price     Discount Current_Price   Gain                    Kind  \\\n",
       "1456           5,56  %36 indirim          3,56   2,00    Roman-Öykü Kitapları   \n",
       "2509          20,00  %36 indirim         12,80   7,20       Akademik Kitaplar   \n",
       "1572          45,00  %35 indirim         29,25  15,75  Diğer Tarih Kitapları    \n",
       "\n",
       "      Page           ISBN    Cover  \n",
       "1456    48  9789750842092  Ciltsiz  \n",
       "2509   144  9786058217669  Ciltsiz  \n",
       "1572   400  9786051716855  Ciltsiz  "
      ]
     },
     "execution_count": 2,
     "metadata": {},
     "output_type": "execute_result"
    }
   ],
   "source": [
    "bkm = pd.read_csv('bkmkitaplar5.csv', index_col=0)\n",
    "bkm.sample(3)"
   ]
  },
  {
   "cell_type": "code",
   "execution_count": 4,
   "metadata": {},
   "outputs": [
    {
     "data": {
      "text/html": [
       "<div>\n",
       "<style scoped>\n",
       "    .dataframe tbody tr th:only-of-type {\n",
       "        vertical-align: middle;\n",
       "    }\n",
       "\n",
       "    .dataframe tbody tr th {\n",
       "        vertical-align: top;\n",
       "    }\n",
       "\n",
       "    .dataframe thead th {\n",
       "        text-align: right;\n",
       "    }\n",
       "</style>\n",
       "<table border=\"1\" class=\"dataframe\">\n",
       "  <thead>\n",
       "    <tr style=\"text-align: right;\">\n",
       "      <th></th>\n",
       "      <th>Product_Name</th>\n",
       "      <th>Publisher</th>\n",
       "      <th>Writer</th>\n",
       "      <th>Previous_Price</th>\n",
       "      <th>Discount</th>\n",
       "      <th>Current_Price</th>\n",
       "      <th>Gain</th>\n",
       "      <th>Kind</th>\n",
       "      <th>Page</th>\n",
       "      <th>ISBN</th>\n",
       "      <th>Cover</th>\n",
       "    </tr>\n",
       "  </thead>\n",
       "  <tbody>\n",
       "    <tr>\n",
       "      <th>2549</th>\n",
       "      <td>Askerlik İşi</td>\n",
       "      <td>İletişim Yayınevi</td>\n",
       "      <td>Erik Jan Zürcher</td>\n",
       "      <td>65,00</td>\n",
       "      <td>%30 indirim</td>\n",
       "      <td>45,50</td>\n",
       "      <td>19,50</td>\n",
       "      <td>Referans - Kaynak Kitapları</td>\n",
       "      <td>664</td>\n",
       "      <td>9789750522741</td>\n",
       "      <td>Ciltsiz</td>\n",
       "    </tr>\n",
       "    <tr>\n",
       "      <th>2550</th>\n",
       "      <td>Putin Ne İstiyor?</td>\n",
       "      <td>İletişim Yayınevi</td>\n",
       "      <td>Jean-Robert Jouanny</td>\n",
       "      <td>29,50</td>\n",
       "      <td>%30 indirim</td>\n",
       "      <td>20,65</td>\n",
       "      <td>8,85</td>\n",
       "      <td>Dünya Siyaseti ve Politikası Kitapları</td>\n",
       "      <td>174</td>\n",
       "      <td>9789750522697</td>\n",
       "      <td>Ciltsiz</td>\n",
       "    </tr>\n",
       "    <tr>\n",
       "      <th>2551</th>\n",
       "      <td>Uyku Sersemi</td>\n",
       "      <td>İletişim Yayınevi</td>\n",
       "      <td>Hakan Bıçakcı</td>\n",
       "      <td>27,00</td>\n",
       "      <td>%30 indirim</td>\n",
       "      <td>18,90</td>\n",
       "      <td>8,10</td>\n",
       "      <td>Türk Edebiyatı</td>\n",
       "      <td>180</td>\n",
       "      <td>9789750522611</td>\n",
       "      <td>Ciltsiz</td>\n",
       "    </tr>\n",
       "  </tbody>\n",
       "</table>\n",
       "</div>"
      ],
      "text/plain": [
       "           Product_Name          Publisher               Writer  \\\n",
       "2549       Askerlik İşi  İletişim Yayınevi     Erik Jan Zürcher   \n",
       "2550  Putin Ne İstiyor?  İletişim Yayınevi  Jean-Robert Jouanny   \n",
       "2551       Uyku Sersemi  İletişim Yayınevi        Hakan Bıçakcı   \n",
       "\n",
       "     Previous_Price     Discount Current_Price   Gain  \\\n",
       "2549          65,00  %30 indirim         45,50  19,50   \n",
       "2550          29,50  %30 indirim         20,65   8,85   \n",
       "2551          27,00  %30 indirim         18,90   8,10   \n",
       "\n",
       "                                        Kind  Page           ISBN    Cover  \n",
       "2549             Referans - Kaynak Kitapları   664  9789750522741  Ciltsiz  \n",
       "2550  Dünya Siyaseti ve Politikası Kitapları   174  9789750522697  Ciltsiz  \n",
       "2551                          Türk Edebiyatı   180  9789750522611  Ciltsiz  "
      ]
     },
     "execution_count": 4,
     "metadata": {},
     "output_type": "execute_result"
    }
   ],
   "source": [
    "bkm.tail(3)"
   ]
  },
  {
   "cell_type": "code",
   "execution_count": 5,
   "metadata": {},
   "outputs": [
    {
     "name": "stdout",
     "output_type": "stream",
     "text": [
      "<class 'pandas.core.frame.DataFrame'>\n",
      "Int64Index: 2552 entries, 0 to 2551\n",
      "Data columns (total 11 columns):\n",
      " #   Column          Non-Null Count  Dtype \n",
      "---  ------          --------------  ----- \n",
      " 0   Product_Name    2552 non-null   object\n",
      " 1   Publisher       2552 non-null   object\n",
      " 2   Writer          2552 non-null   object\n",
      " 3   Previous_Price  2552 non-null   object\n",
      " 4   Discount        2552 non-null   object\n",
      " 5   Current_Price   2552 non-null   object\n",
      " 6   Gain            2552 non-null   object\n",
      " 7   Kind            2552 non-null   object\n",
      " 8   Page            2552 non-null   int64 \n",
      " 9   ISBN            2552 non-null   int64 \n",
      " 10  Cover           2552 non-null   object\n",
      "dtypes: int64(2), object(9)\n",
      "memory usage: 239.2+ KB\n"
     ]
    }
   ],
   "source": [
    "bkm.info()"
   ]
  },
  {
   "cell_type": "code",
   "execution_count": 6,
   "metadata": {},
   "outputs": [],
   "source": [
    "bkm['Current_Price']=bkm['Current_Price'].str.replace('[A-Za-z]', '').str.replace('.', '').str.replace(',', '.').astype(float)\n",
    "bkm['Previous_Price']=bkm['Previous_Price'].str.replace('[A-Za-z]', '').str.replace('.', '').str.replace(',', '.').astype(float)\n",
    "bkm['Gain']=bkm['Gain'].str.replace('[A-Za-z]', '').str.replace('.', '').str.replace(',', '.').astype(float)"
   ]
  },
  {
   "cell_type": "code",
   "execution_count": 24,
   "metadata": {},
   "outputs": [],
   "source": [
    "#bkm['Discount']=bkm['Discount'].str.replace('%', '').str.replace('indirim', '').astype(float)"
   ]
  },
  {
   "cell_type": "code",
   "execution_count": 21,
   "metadata": {},
   "outputs": [],
   "source": [
    "bkm['Cover']=bkm['Cover'].str.replace('Ciltli', '1')\n",
    "bkm['Cover']=bkm['Cover'].str.replace('Ciltsiz', '0')"
   ]
  },
  {
   "cell_type": "code",
   "execution_count": 22,
   "metadata": {},
   "outputs": [
    {
     "data": {
      "text/html": [
       "<div>\n",
       "<style scoped>\n",
       "    .dataframe tbody tr th:only-of-type {\n",
       "        vertical-align: middle;\n",
       "    }\n",
       "\n",
       "    .dataframe tbody tr th {\n",
       "        vertical-align: top;\n",
       "    }\n",
       "\n",
       "    .dataframe thead th {\n",
       "        text-align: right;\n",
       "    }\n",
       "</style>\n",
       "<table border=\"1\" class=\"dataframe\">\n",
       "  <thead>\n",
       "    <tr style=\"text-align: right;\">\n",
       "      <th></th>\n",
       "      <th>Product_Name</th>\n",
       "      <th>Publisher</th>\n",
       "      <th>Writer</th>\n",
       "      <th>Previous_Price</th>\n",
       "      <th>Discount</th>\n",
       "      <th>Current_Price</th>\n",
       "      <th>Gain</th>\n",
       "      <th>Kind</th>\n",
       "      <th>Page</th>\n",
       "      <th>ISBN</th>\n",
       "      <th>Cover</th>\n",
       "    </tr>\n",
       "  </thead>\n",
       "  <tbody>\n",
       "    <tr>\n",
       "      <th>0</th>\n",
       "      <td>Eğitici Kartlar - Resimli Bulmacalar</td>\n",
       "      <td>Teleskop Popüler Bilim</td>\n",
       "      <td>Kolektif</td>\n",
       "      <td>25.0</td>\n",
       "      <td>50.0</td>\n",
       "      <td>12.50</td>\n",
       "      <td>12.50</td>\n",
       "      <td>Zeka Gelişimi Kitapları</td>\n",
       "      <td>1</td>\n",
       "      <td>9786052520130</td>\n",
       "      <td>0</td>\n",
       "    </tr>\n",
       "    <tr>\n",
       "      <th>1</th>\n",
       "      <td>Psikoloji Nasıl Çalışır</td>\n",
       "      <td>Alfa Yayınları</td>\n",
       "      <td>Kolektif</td>\n",
       "      <td>125.0</td>\n",
       "      <td>35.0</td>\n",
       "      <td>81.25</td>\n",
       "      <td>43.75</td>\n",
       "      <td>Popüler Kültür Kitapları</td>\n",
       "      <td>258</td>\n",
       "      <td>9786051068695</td>\n",
       "      <td>1</td>\n",
       "    </tr>\n",
       "    <tr>\n",
       "      <th>2</th>\n",
       "      <td>Eğitici Kartlar - Çocuklarla 100 Etkinlik</td>\n",
       "      <td>Teleskop Popüler Bilim</td>\n",
       "      <td>Kolektif</td>\n",
       "      <td>25.0</td>\n",
       "      <td>50.0</td>\n",
       "      <td>12.50</td>\n",
       "      <td>12.50</td>\n",
       "      <td>Zeka Gelişimi Kitapları</td>\n",
       "      <td>1</td>\n",
       "      <td>9786052520154</td>\n",
       "      <td>0</td>\n",
       "    </tr>\n",
       "  </tbody>\n",
       "</table>\n",
       "</div>"
      ],
      "text/plain": [
       "                                Product_Name               Publisher  \\\n",
       "0       Eğitici Kartlar - Resimli Bulmacalar  Teleskop Popüler Bilim   \n",
       "1                    Psikoloji Nasıl Çalışır          Alfa Yayınları   \n",
       "2  Eğitici Kartlar - Çocuklarla 100 Etkinlik  Teleskop Popüler Bilim   \n",
       "\n",
       "     Writer  Previous_Price  Discount  Current_Price   Gain  \\\n",
       "0  Kolektif            25.0      50.0          12.50  12.50   \n",
       "1  Kolektif           125.0      35.0          81.25  43.75   \n",
       "2  Kolektif            25.0      50.0          12.50  12.50   \n",
       "\n",
       "                       Kind  Page           ISBN Cover  \n",
       "0   Zeka Gelişimi Kitapları     1  9786052520130     0  \n",
       "1  Popüler Kültür Kitapları   258  9786051068695     1  \n",
       "2   Zeka Gelişimi Kitapları     1  9786052520154     0  "
      ]
     },
     "execution_count": 22,
     "metadata": {},
     "output_type": "execute_result"
    }
   ],
   "source": [
    "bkm.head(3)"
   ]
  },
  {
   "cell_type": "code",
   "execution_count": 40,
   "metadata": {},
   "outputs": [
    {
     "data": {
      "text/plain": [
       "1480"
      ]
     },
     "execution_count": 40,
     "metadata": {},
     "output_type": "execute_result"
    }
   ],
   "source": [
    "sum(bkm['Kind'].value_counts().head(10))"
   ]
  },
  {
   "cell_type": "code",
   "execution_count": 54,
   "metadata": {},
   "outputs": [
    {
     "data": {
      "text/plain": [
       "171"
      ]
     },
     "execution_count": 54,
     "metadata": {},
     "output_type": "execute_result"
    }
   ],
   "source": [
    "sum(bkm['Writer'].value_counts().head(1))"
   ]
  },
  {
   "cell_type": "code",
   "execution_count": 44,
   "metadata": {},
   "outputs": [
    {
     "data": {
      "text/plain": [
       "1510"
      ]
     },
     "execution_count": 44,
     "metadata": {},
     "output_type": "execute_result"
    }
   ],
   "source": [
    "sum(bkm['Publisher'].value_counts().head(8))"
   ]
  },
  {
   "cell_type": "markdown",
   "metadata": {},
   "source": [
    "* ISBN at\n",
    "* ücretler ve indirimlerden 1 ini bırak\n",
    "* Publisherların ortalama fiyatlarına bak\n",
    "* Kitap sayısına göre sayfa sayısına bak yazarların\n",
    "* Türlere göre sayı ve sayfa\n",
    "\n",
    "* Belli Yayınevleri ve Belli yazarlara ve belli türlere göre\n",
    "* Sayfa Sayısına göre fiyat"
   ]
  },
  {
   "cell_type": "code",
   "execution_count": 68,
   "metadata": {},
   "outputs": [
    {
     "data": {
      "text/html": [
       "<div>\n",
       "<style scoped>\n",
       "    .dataframe tbody tr th:only-of-type {\n",
       "        vertical-align: middle;\n",
       "    }\n",
       "\n",
       "    .dataframe tbody tr th {\n",
       "        vertical-align: top;\n",
       "    }\n",
       "\n",
       "    .dataframe thead th {\n",
       "        text-align: right;\n",
       "    }\n",
       "</style>\n",
       "<table border=\"1\" class=\"dataframe\">\n",
       "  <thead>\n",
       "    <tr style=\"text-align: right;\">\n",
       "      <th></th>\n",
       "      <th>Product_Name</th>\n",
       "      <th>Publisher</th>\n",
       "      <th>Writer</th>\n",
       "      <th>Previous_Price</th>\n",
       "      <th>Discount</th>\n",
       "      <th>Current_Price</th>\n",
       "      <th>Gain</th>\n",
       "      <th>Kind</th>\n",
       "      <th>Page</th>\n",
       "      <th>ISBN</th>\n",
       "      <th>Cover</th>\n",
       "    </tr>\n",
       "  </thead>\n",
       "  <tbody>\n",
       "    <tr>\n",
       "      <th>1779</th>\n",
       "      <td>Duino Buluşması</td>\n",
       "      <td>Yapı Kredi Yayınları</td>\n",
       "      <td>Bedirhan Toprak</td>\n",
       "      <td>20.37</td>\n",
       "      <td>36.0</td>\n",
       "      <td>13.04</td>\n",
       "      <td>7.33</td>\n",
       "      <td>Şiir Kitapları</td>\n",
       "      <td>180</td>\n",
       "      <td>9789750841668</td>\n",
       "      <td>0</td>\n",
       "    </tr>\n",
       "    <tr>\n",
       "      <th>1735</th>\n",
       "      <td>Devlet Aklı ve 1915</td>\n",
       "      <td>İletişim Yayınevi</td>\n",
       "      <td>Ömer Turan</td>\n",
       "      <td>53.00</td>\n",
       "      <td>30.0</td>\n",
       "      <td>37.10</td>\n",
       "      <td>15.90</td>\n",
       "      <td>Tarih Araştırma - İnceleme Kitapları</td>\n",
       "      <td>438</td>\n",
       "      <td>9789750523496</td>\n",
       "      <td>0</td>\n",
       "    </tr>\n",
       "    <tr>\n",
       "      <th>1357</th>\n",
       "      <td>Castellio Calvin'e Karşı ya da Bir Vicdan Zorb...</td>\n",
       "      <td>İletişim Yayınevi</td>\n",
       "      <td>Stefan Zweig</td>\n",
       "      <td>25.00</td>\n",
       "      <td>30.0</td>\n",
       "      <td>17.50</td>\n",
       "      <td>7.50</td>\n",
       "      <td>Roman</td>\n",
       "      <td>241</td>\n",
       "      <td>9789750524295</td>\n",
       "      <td>0</td>\n",
       "    </tr>\n",
       "  </tbody>\n",
       "</table>\n",
       "</div>"
      ],
      "text/plain": [
       "                                           Product_Name             Publisher  \\\n",
       "1779                                    Duino Buluşması  Yapı Kredi Yayınları   \n",
       "1735                                Devlet Aklı ve 1915     İletişim Yayınevi   \n",
       "1357  Castellio Calvin'e Karşı ya da Bir Vicdan Zorb...     İletişim Yayınevi   \n",
       "\n",
       "               Writer  Previous_Price  Discount  Current_Price   Gain  \\\n",
       "1779  Bedirhan Toprak           20.37      36.0          13.04   7.33   \n",
       "1735       Ömer Turan           53.00      30.0          37.10  15.90   \n",
       "1357     Stefan Zweig           25.00      30.0          17.50   7.50   \n",
       "\n",
       "                                      Kind  Page           ISBN Cover  \n",
       "1779                        Şiir Kitapları   180  9789750841668     0  \n",
       "1735  Tarih Araştırma - İnceleme Kitapları   438  9789750523496     0  \n",
       "1357                                 Roman   241  9789750524295     0  "
      ]
     },
     "execution_count": 68,
     "metadata": {},
     "output_type": "execute_result"
    }
   ],
   "source": [
    "bkm.sample(3)"
   ]
  },
  {
   "cell_type": "code",
   "execution_count": null,
   "metadata": {},
   "outputs": [],
   "source": []
  },
  {
   "cell_type": "code",
   "execution_count": 58,
   "metadata": {},
   "outputs": [
    {
     "data": {
      "text/html": [
       "<div>\n",
       "<style scoped>\n",
       "    .dataframe tbody tr th:only-of-type {\n",
       "        vertical-align: middle;\n",
       "    }\n",
       "\n",
       "    .dataframe tbody tr th {\n",
       "        vertical-align: top;\n",
       "    }\n",
       "\n",
       "    .dataframe thead th {\n",
       "        text-align: right;\n",
       "    }\n",
       "</style>\n",
       "<table border=\"1\" class=\"dataframe\">\n",
       "  <thead>\n",
       "    <tr style=\"text-align: right;\">\n",
       "      <th></th>\n",
       "      <th>Current_Price</th>\n",
       "    </tr>\n",
       "    <tr>\n",
       "      <th>Kind</th>\n",
       "      <th></th>\n",
       "    </tr>\n",
       "  </thead>\n",
       "  <tbody>\n",
       "    <tr>\n",
       "      <th>Akademik Kitaplar</th>\n",
       "      <td>15.875000</td>\n",
       "    </tr>\n",
       "    <tr>\n",
       "      <th>Aksiyon - Macera Kitapları</th>\n",
       "      <td>13.000000</td>\n",
       "    </tr>\n",
       "    <tr>\n",
       "      <th>Alman Edebiyatı Kitapları</th>\n",
       "      <td>21.020000</td>\n",
       "    </tr>\n",
       "    <tr>\n",
       "      <th>Amerikan Edebiyatı</th>\n",
       "      <td>14.720000</td>\n",
       "    </tr>\n",
       "    <tr>\n",
       "      <th>Anlatı Kitapları</th>\n",
       "      <td>14.862353</td>\n",
       "    </tr>\n",
       "    <tr>\n",
       "      <th>Annelik ve Çocuk Bakımı Kitapları</th>\n",
       "      <td>13.000000</td>\n",
       "    </tr>\n",
       "    <tr>\n",
       "      <th>Antoloji Kitapları</th>\n",
       "      <td>25.885000</td>\n",
       "    </tr>\n",
       "    <tr>\n",
       "      <th>Antropoloji Kitapları</th>\n",
       "      <td>19.970000</td>\n",
       "    </tr>\n",
       "    <tr>\n",
       "      <th>Anı- Mektup - Günlük Kitapları</th>\n",
       "      <td>18.532069</td>\n",
       "    </tr>\n",
       "    <tr>\n",
       "      <th>Araştıma-İnceleme Kitapları</th>\n",
       "      <td>18.325106</td>\n",
       "    </tr>\n",
       "  </tbody>\n",
       "</table>\n",
       "</div>"
      ],
      "text/plain": [
       "                                   Current_Price\n",
       "Kind                                            \n",
       "Akademik Kitaplar                      15.875000\n",
       "Aksiyon - Macera Kitapları             13.000000\n",
       "Alman Edebiyatı Kitapları              21.020000\n",
       "Amerikan Edebiyatı                     14.720000\n",
       "Anlatı Kitapları                       14.862353\n",
       "Annelik ve Çocuk Bakımı Kitapları      13.000000\n",
       "Antoloji Kitapları                     25.885000\n",
       "Antropoloji Kitapları                  19.970000\n",
       "Anı- Mektup - Günlük Kitapları         18.532069\n",
       "Araştıma-İnceleme Kitapları            18.325106"
      ]
     },
     "execution_count": 58,
     "metadata": {},
     "output_type": "execute_result"
    }
   ],
   "source": [
    "pt1 = bkm.pivot_table(index='Kind', values=['Current_Price'])\n",
    "pt1.head(10)"
   ]
  },
  {
   "cell_type": "code",
   "execution_count": 60,
   "metadata": {},
   "outputs": [
    {
     "name": "stdout",
     "output_type": "stream",
     "text": [
      "457\n",
      "44\n",
      "1538\n",
      "188\n"
     ]
    }
   ],
   "source": [
    "print(len(bkm[\"Page\"].unique()))\n",
    "print(len(bkm[\"Publisher\"].unique()))\n",
    "print(len(bkm[\"Writer\"].unique()))\n",
    "print(len(bkm[\"Kind\"].unique()))"
   ]
  },
  {
   "cell_type": "code",
   "execution_count": 61,
   "metadata": {},
   "outputs": [
    {
     "name": "stdout",
     "output_type": "stream",
     "text": [
      "35.0    917\n",
      "40.0    451\n",
      "36.0    414\n",
      "30.0    223\n",
      "50.0    190\n",
      "38.0    116\n",
      "31.0     73\n",
      "33.0     30\n",
      "Name: Discount, dtype: int64\n"
     ]
    }
   ],
   "source": [
    "print(bkm[\"Discount\"].value_counts().sort_values(ascending=False).head(8))"
   ]
  },
  {
   "cell_type": "code",
   "execution_count": 62,
   "metadata": {},
   "outputs": [
    {
     "name": "stdout",
     "output_type": "stream",
     "text": [
      "12.35    64\n",
      "10.40    61\n",
      "24.05    55\n",
      "13.00    54\n",
      "5.00     48\n",
      "19.50    48\n",
      "11.70    44\n",
      "16.90    43\n",
      "20.15    42\n",
      "15.60    40\n",
      "Name: Current_Price, dtype: int64\n"
     ]
    }
   ],
   "source": [
    "print(bkm[\"Current_Price\"].value_counts().sort_values(ascending=False).head(10))"
   ]
  },
  {
   "cell_type": "code",
   "execution_count": 30,
   "metadata": {},
   "outputs": [
    {
     "name": "stdout",
     "output_type": "stream",
     "text": [
      "Roman                                   665\n",
      "Roman-Öykü Kitapları                    209\n",
      "Hikayeler                               165\n",
      "Öykü Kitapları                          108\n",
      "Denemeler                                65\n",
      "Diğer                                    59\n",
      "Türk Edebiyatı                           56\n",
      "Şiir Kitapları                           54\n",
      "Kişisel Gelişim Kitapları                52\n",
      "Çizgi Roman Kitapları                    47\n",
      "Araştıma-İnceleme Kitapları              47\n",
      "Popüler Bilim Kitapları                  46\n",
      "Tarih Araştırma - İnceleme Kitapları     44\n",
      "Araştırma-İnceleme Kitapları             37\n",
      "Masallar                                 30\n",
      "Araştırma - İnceleme Kitapları           30\n",
      "Anı- Mektup - Günlük Kitapları           29\n",
      "Biyografi-Otobiyogafi Kitapları          27\n",
      "Bilimsel Kitaplar                        26\n",
      "Klasik Kitaplar                          24\n",
      "Name: Kind, dtype: int64\n"
     ]
    }
   ],
   "source": [
    "print(bkm[\"Kind\"].value_counts().sort_values(ascending=False).head(20))"
   ]
  },
  {
   "cell_type": "code",
   "execution_count": 31,
   "metadata": {},
   "outputs": [
    {
     "name": "stdout",
     "output_type": "stream",
     "text": [
      "Kolektif                  171\n",
      "Sir Arthur Conan Doyle     18\n",
      "Stefan Zweig               17\n",
      "Ömer Sevinçgül             16\n",
      "Mehmet Kemal Erdoğan       14\n",
      "Samed Behrengi             13\n",
      "Quixot Publishing          12\n",
      "Metin Karabaşoğlu          11\n",
      "Demet Küçük                11\n",
      "Simeon Marinkovic          11\n",
      "Name: Writer, dtype: int64\n"
     ]
    }
   ],
   "source": [
    "print(bkm[\"Writer\"].value_counts().sort_values(ascending=False).head(10))"
   ]
  },
  {
   "cell_type": "code",
   "execution_count": 65,
   "metadata": {},
   "outputs": [
    {
     "data": {
      "text/html": [
       "<div>\n",
       "<style scoped>\n",
       "    .dataframe tbody tr th:only-of-type {\n",
       "        vertical-align: middle;\n",
       "    }\n",
       "\n",
       "    .dataframe tbody tr th {\n",
       "        vertical-align: top;\n",
       "    }\n",
       "\n",
       "    .dataframe thead th {\n",
       "        text-align: right;\n",
       "    }\n",
       "</style>\n",
       "<table border=\"1\" class=\"dataframe\">\n",
       "  <thead>\n",
       "    <tr style=\"text-align: right;\">\n",
       "      <th></th>\n",
       "      <th>Writer</th>\n",
       "      <th>Previous_Price</th>\n",
       "      <th>Discount</th>\n",
       "      <th>Current_Price</th>\n",
       "      <th>Gain</th>\n",
       "      <th>Page</th>\n",
       "      <th>ISBN</th>\n",
       "    </tr>\n",
       "  </thead>\n",
       "  <tbody>\n",
       "    <tr>\n",
       "      <th>0</th>\n",
       "      <td>Kolektif</td>\n",
       "      <td>3739.9</td>\n",
       "      <td>6985.0</td>\n",
       "      <td>2261.47</td>\n",
       "      <td>1478.46</td>\n",
       "      <td>15839</td>\n",
       "      <td>1568010611738832</td>\n",
       "    </tr>\n",
       "    <tr>\n",
       "      <th>1</th>\n",
       "      <td>Jules Verne</td>\n",
       "      <td>588.0</td>\n",
       "      <td>316.0</td>\n",
       "      <td>362.57</td>\n",
       "      <td>225.43</td>\n",
       "      <td>7872</td>\n",
       "      <td>82286050952458</td>\n",
       "    </tr>\n",
       "    <tr>\n",
       "      <th>2</th>\n",
       "      <td>Alexandra Bracken</td>\n",
       "      <td>327.5</td>\n",
       "      <td>200.0</td>\n",
       "      <td>196.50</td>\n",
       "      <td>131.00</td>\n",
       "      <td>5320</td>\n",
       "      <td>48930275173429</td>\n",
       "    </tr>\n",
       "    <tr>\n",
       "      <th>3</th>\n",
       "      <td>Sir Arthur Conan Doyle</td>\n",
       "      <td>368.5</td>\n",
       "      <td>652.0</td>\n",
       "      <td>234.40</td>\n",
       "      <td>134.10</td>\n",
       "      <td>3969</td>\n",
       "      <td>176148958470771</td>\n",
       "    </tr>\n",
       "    <tr>\n",
       "      <th>4</th>\n",
       "      <td>Philip K. Dick</td>\n",
       "      <td>350.0</td>\n",
       "      <td>350.0</td>\n",
       "      <td>227.50</td>\n",
       "      <td>122.50</td>\n",
       "      <td>3942</td>\n",
       "      <td>97860516518423</td>\n",
       "    </tr>\n",
       "  </tbody>\n",
       "</table>\n",
       "</div>"
      ],
      "text/plain": [
       "                   Writer  Previous_Price  Discount  Current_Price     Gain  \\\n",
       "0                Kolektif          3739.9    6985.0        2261.47  1478.46   \n",
       "1             Jules Verne           588.0     316.0         362.57   225.43   \n",
       "2       Alexandra Bracken           327.5     200.0         196.50   131.00   \n",
       "3  Sir Arthur Conan Doyle           368.5     652.0         234.40   134.10   \n",
       "4          Philip K. Dick           350.0     350.0         227.50   122.50   \n",
       "\n",
       "    Page              ISBN  \n",
       "0  15839  1568010611738832  \n",
       "1   7872    82286050952458  \n",
       "2   5320    48930275173429  \n",
       "3   3969   176148958470771  \n",
       "4   3942    97860516518423  "
      ]
     },
     "execution_count": 65,
     "metadata": {},
     "output_type": "execute_result"
    }
   ],
   "source": [
    "bkm_top10 = bkm.groupby(\"Writer\").sum().sort_values(\"Page\",ascending=False).head(5)\n",
    "bkm_top10 = bkm_top10.reset_index()\n",
    "bkm_top10"
   ]
  },
  {
   "cell_type": "code",
   "execution_count": 66,
   "metadata": {},
   "outputs": [
    {
     "data": {
      "image/png": "[encoded data removed]",
      "text/plain": [
       "<Figure size 2000x1600 with 1 Axes>"
      ]
     },
     "metadata": {},
     "output_type": "display_data"
    }
   ],
   "source": [
    "plt.figure(figsize=(10,8),dpi=200),\n",
    "plt.style.use('default')\n",
    "ax = sns.barplot(x=\"Writer\", y=\"Page\", data=bkm_top10)\n",
    "plt.title(\"Top 5 Writers\", weight=\"bold\", c=\"red\", fontsize=25)\n",
    "plt.xlabel(\"\",weight=\"bold\",c=\"k\")\n",
    "plt.xticks(rotation=0, weight=\"bold\")\n",
    "plt.ylabel(\"Total Pages)\",weight= \"bold\",c=\"k\")\n",
    "plt.ylim(1)\n",
    "plt.yticks(weight=\"bold\")\n",
    "\n",
    "plt.show()"
   ]
  },
  {
   "cell_type": "code",
   "execution_count": null,
   "metadata": {},
   "outputs": [],
   "source": []
  },
  {
   "cell_type": "code",
   "execution_count": null,
   "metadata": {},
   "outputs": [],
   "source": []
  },
  {
   "cell_type": "code",
   "execution_count": null,
   "metadata": {},
   "outputs": [],
   "source": []
  },
  {
   "cell_type": "code",
   "execution_count": null,
   "metadata": {},
   "outputs": [],
   "source": []
  },
  {
   "cell_type": "code",
   "execution_count": null,
   "metadata": {},
   "outputs": [],
   "source": []
  },
  {
   "cell_type": "code",
   "execution_count": null,
   "metadata": {},
   "outputs": [],
   "source": []
  },
  {
   "cell_type": "code",
   "execution_count": null,
   "metadata": {},
   "outputs": [],
   "source": []
  },
  {
   "cell_type": "code",
   "execution_count": null,
   "metadata": {},
   "outputs": [],
   "source": []
  },
  {
   "cell_type": "code",
   "execution_count": null,
   "metadata": {},
   "outputs": [],
   "source": []
  },
  {
   "cell_type": "code",
   "execution_count": null,
   "metadata": {},
   "outputs": [],
   "source": []
  },
  {
   "cell_type": "code",
   "execution_count": null,
   "metadata": {},
   "outputs": [],
   "source": []
  },
  {
   "cell_type": "code",
   "execution_count": null,
   "metadata": {},
   "outputs": [],
   "source": []
  },
  {
   "cell_type": "code",
   "execution_count": null,
   "metadata": {},
   "outputs": [],
   "source": []
  },
  {
   "cell_type": "code",
   "execution_count": null,
   "metadata": {},
   "outputs": [],
   "source": []
  },
  {
   "cell_type": "code",
   "execution_count": null,
   "metadata": {},
   "outputs": [],
   "source": []
  },
  {
   "cell_type": "code",
   "execution_count": null,
   "metadata": {},
   "outputs": [],
   "source": []
  },
  {
   "cell_type": "code",
   "execution_count": null,
   "metadata": {},
   "outputs": [],
   "source": []
  },
  {
   "cell_type": "code",
   "execution_count": null,
   "metadata": {},
   "outputs": [],
   "source": []
  },
  {
   "cell_type": "code",
   "execution_count": null,
   "metadata": {},
   "outputs": [],
   "source": []
  }
 ],
 "metadata": {
  "kernelspec": {
   "display_name": "Python 3",
   "language": "python",
   "name": "python3"
  },
  "language_info": {
   "codemirror_mode": {
    "name": "ipython",
    "version": 3
   },
   "file_extension": ".py",
   "mimetype": "text/x-python",
   "name": "python",
   "nbconvert_exporter": "python",
   "pygments_lexer": "ipython3",
   "version": "3.7.6"
  }
 },
 "nbformat": 4,
 "nbformat_minor": 4
}
